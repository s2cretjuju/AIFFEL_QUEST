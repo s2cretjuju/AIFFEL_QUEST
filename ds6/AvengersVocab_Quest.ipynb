{
  "nbformat": 4,
  "nbformat_minor": 0,
  "metadata": {
    "colab": {
      "provenance": [],
      "include_colab_link": true
    },
    "kernelspec": {
      "name": "python3",
      "display_name": "Python 3"
    },
    "language_info": {
      "name": "python"
    }
  },
  "cells": [
    {
      "cell_type": "markdown",
      "metadata": {
        "id": "view-in-github",
        "colab_type": "text"
      },
      "source": [
        "<a href=\"https://colab.research.google.com/github/s2cretjuju/AIFFEL_QUEST/blob/main/ds6/AvengersVocab_Quest.ipynb\" target=\"_parent\"><img src=\"https://colab.research.google.com/assets/colab-badge.svg\" alt=\"Open In Colab\"/></a>"
      ]
    },
    {
      "cell_type": "code",
      "execution_count": null,
      "metadata": {
        "id": "DQREWTpLFt5R",
        "colab": {
          "base_uri": "https://localhost:8080/"
        },
        "outputId": "ef45cb28-e731-40af-8473-faa359f6576f"
      },
      "outputs": [
        {
          "output_type": "stream",
          "name": "stdout",
          "text": [
            "문장을 입력하세요: i am an iron man\n",
            "[2, 121, 50, 1834, 96]\n"
          ]
        }
      ],
      "source": [
        "import re # → 문자열 전처리에 쓰이는 정규표현식 도구 불러오기\n",
        "from collections import Counter # → 단어 같은 것의 빈도수를 세는 도구 불러오기\n",
        "\n",
        "# 텍스트 불러오기\n",
        "with open(\"/content/Avengers.txt\", \"r\", encoding=\"utf-8\") as f:\n",
        "    text = f.read()\n",
        "\n",
        "# 소문자 변환\n",
        "text = text.lower()\n",
        "\n",
        "# 특수문자 제거\n",
        "text = re.sub(r\"[^a-z0-9\\s]\", \" \", text)\n",
        "\n",
        "    # 함수 수정\n",
        "    # 특수문자 제거를 위해 기존에 알고 있던 아래 명령어를 사용했으나,\n",
        "    # 검색 후 보다 축약된 함수 표현으로 수정함\n",
        "\n",
        "    # specials = \"~!@#$%^&*()_+-={}[]:\\\";'<>?,./\"\n",
        "    #   for s in specials:\n",
        "    #   text = text.replace(s, \" \")\n",
        "\n",
        "# 단어 단위 분리\n",
        "words = text.split()\n",
        "\n",
        "# 단어 빈도수 세기\n",
        "word_count = Counter(words)\n",
        "\n",
        "# 빈도수 기준으로 정렬 & 인덱스 부여\n",
        "vocab = {} # vocab이라는 딕셔너리 생성\n",
        "idx = 0\n",
        "for word, count in word_count.most_common(): # word_count.most_common() → 단어와 빈도수를 내림차순 정렬된 튜플 리스트로 돌려줌\n",
        "  vocab[word] = idx\n",
        "  idx += 1\n",
        "\n",
        "# 문장을 정수로 변환하는 함수\n",
        "def encoder(sentence):\n",
        "  sentence = sentence.lower() # 소문자 변환\n",
        "  sentence = re.sub(r\"[^a-z0-9\\s]\", \" \", sentence) # 특수 문자 제거\n",
        "  tokens = sentence.split() # 단어 단위로 분리\n",
        "  return [vocab.get(word, \"N/A\") for word in tokens] # 없는 단어는 N/A로 표현되도록\n",
        "\n",
        "# 결과 테스트를 위해 print를 미리 돌려 봄\n",
        "# print(encoder(\"i am a boy\"))\n",
        "# 노션에 있는 i am a boy 정수와 동일하지 않아 퍼실님께 여쭤보니, 전처리 방식에 따라 달라질 수 있다는 확인을 받음\n",
        "\n",
        "# 문장 입력 받기\n",
        "user_sentence = input(\"문장을 입력하세요: \")\n",
        "encoded = encoder(user_sentence) # 생성된 함수를 사용해 봄\n",
        "print(encoded)"
      ]
    }
  ]
}