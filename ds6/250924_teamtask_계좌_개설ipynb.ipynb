{
  "nbformat": 4,
  "nbformat_minor": 0,
  "metadata": {
    "colab": {
      "provenance": [],
      "include_colab_link": true
    },
    "kernelspec": {
      "name": "python3",
      "display_name": "Python 3"
    },
    "language_info": {
      "name": "python"
    }
  },
  "cells": [
    {
      "cell_type": "markdown",
      "metadata": {
        "id": "view-in-github",
        "colab_type": "text"
      },
      "source": [
        "<a href=\"https://colab.research.google.com/github/s2cretjuju/AIFFEL_QUEST/blob/main/ds6/250924_teamtask_%EA%B3%84%EC%A2%8C_%EA%B0%9C%EC%84%A4ipynb.ipynb\" target=\"_parent\"><img src=\"https://colab.research.google.com/assets/colab-badge.svg\" alt=\"Open In Colab\"/></a>"
      ]
    },
    {
      "cell_type": "code",
      "execution_count": 26,
      "metadata": {
        "id": "eFLO7agwG69Z"
      },
      "outputs": [],
      "source": [
        "import random # 계좌 번호를 랜덤하게 만들기 위해 random 모듈 호출\n",
        "\n",
        "# 1.클래스 정의\n",
        "class Account:\n",
        "  # 클래스 변수 (모든 계좌가 공유)\n",
        "  bank_name = \"모두은행\" # 은행 이름은 모든 계좌에 동일\n",
        "  account_count = 0 # 생성된 계좌 개수\n",
        "\n",
        "  # 2.계좌 만들기\n",
        "  def __init__(self, owner, balance): # __init__: 계좌를 만들 때 자동 실행되는 메서드\n",
        "      self.owner = owner # 예금주 이름\n",
        "      self.balance = balance # 초기 잔액 저장\n",
        "      self.account_number = self.make_account_number() # 밑에서 정의한 make_account_number() 호출해서 랜덤 계좌 번호 생성\n",
        "\n",
        "      # 입출금내역 저장 리스트\n",
        "      self.deposit_history = []\n",
        "      self.withdraw_history = []\n",
        "\n",
        "      # 입금 횟수 기록\n",
        "      self.deposit_count = 0 # 입금이 몇 번 일어났는지 기록 (5번마다 이자 발생)\n",
        "\n",
        "      # 계좌가 하나 만들어질 때마다 계좌 개수 +1\n",
        "      Account.account_count += 1\n",
        "\n",
        "  # 3. 계좌 번호 생성 (예: 123-45-678901)\n",
        "  def make_account_number(self):\n",
        "    part1 = str(random.randint(100,999))\n",
        "    part2 = str(random.randint(10,99))\n",
        "    part3 = str(random.randint(100000,999999))\n",
        "    return f\"{part1}-{part2}-{part3}\"\n",
        "\n",
        "  # 4. 입금 메서드\n",
        "  def deposit(self, amount):\n",
        "    if amount < 1: # 입금이 1원보다 적으면 거부\n",
        "      print(\"입금은 최소 1원 이상만 가능합니다.\")\n",
        "      return\n",
        "\n",
        "    self.balance  += amount # 잔액 증가\n",
        "    self.deposit_history.append(amount) # 입금 내역 기록\n",
        "    self.deposit_count += 1 # 입금 횟수 증가\n",
        "\n",
        "    print(f\"{amount}원이 입금되었습니다. 현재 잔액: {self.balance}원\")\n",
        "\n",
        "    # 5번째 입금마다 1% 이자 지급\n",
        "    if self.deposit_count % 5 == 0:\n",
        "      interest = int(self.balance * 0.01) # 현재 잔액의 1% 이자 지급\n",
        "      self.balance += interest\n",
        "      print(f\"5번째 입금! 이자 {interest}원이 지급되었습니다. 현재 잔액: {self.balance}원\")\n",
        "\n",
        "  # 5. 출금 메서드\n",
        "  def withdraw(self, amount):\n",
        "    if amount > self.balance: # 출금 금액이 잔액보다 크면 거부\n",
        "      print(\"잔액이 부족합니다.\")\n",
        "      return\n",
        "\n",
        "    self.balance -= amount\n",
        "    self.withdraw_history.append(amount)\n",
        "    print(f\"{amount}원이 출금되었습니다. 현재 잔액: {self.balance}원\")\n",
        "\n",
        "  # 6. 생성 계좌 개수 확인\n",
        "  @classmethod # 클래스 자체를 대상으로 하는 메서드\n",
        "  def get_account_num(cls):\n",
        "    print(f\"현재 계좌 개수: {cls.account_count}\") #cls.account_count: 지금까지 만들어진 계좌 개수 출력\n",
        "\n",
        "  # 7. 거래 내역 출력\n",
        "  def history(self):\n",
        "    print(\"\\n📜 거래 내역\")\n",
        "    print(f\"[입금 내역]: {self.deposit_history}\")\n",
        "    print(f\"[출금 내역]: {self.withdraw_history}\")\n",
        "    print(f\"현재 잔액: {self.balance}원\")"
      ]
    },
    {
      "cell_type": "code",
      "source": [
        "# 계좌 생성\n",
        "acc1 = Account(\"홍길동\", 1000)\n",
        "\n",
        "# 입금\n",
        "acc1.deposit(500)\n",
        "acc1.deposit(1000)\n",
        "acc1.deposit(2000)\n",
        "acc1.deposit(3000)\n",
        "acc1.deposit(4000)   # 5번째 입금 → 이자 지급\n",
        "\n",
        "# 출금\n",
        "acc1.withdraw(1500)\n",
        "\n",
        "# 내역 확인\n",
        "acc1.history()\n",
        "\n",
        "# 생성된 계좌 개수 확인\n",
        "Account.get_account_num()\n"
      ],
      "metadata": {
        "colab": {
          "base_uri": "https://localhost:8080/"
        },
        "id": "5P_xtbeqojYN",
        "outputId": "72acce44-7773-4e12-eda0-d74ebeb79a69"
      },
      "execution_count": 27,
      "outputs": [
        {
          "output_type": "stream",
          "name": "stdout",
          "text": [
            "500원이 입금되었습니다. 현재 잔액: 1500원\n",
            "1000원이 입금되었습니다. 현재 잔액: 2500원\n",
            "2000원이 입금되었습니다. 현재 잔액: 4500원\n",
            "3000원이 입금되었습니다. 현재 잔액: 7500원\n",
            "4000원이 입금되었습니다. 현재 잔액: 11500원\n",
            "5번째 입금! 이자 115원이 지급되었습니다. 현재 잔액: 11615원\n",
            "1500원이 출금되었습니다. 현재 잔액: 10115원\n",
            "\n",
            "📜 거래 내역\n",
            "[입금 내역]: [500, 1000, 2000, 3000, 4000]\n",
            "[출금 내역]: [1500]\n",
            "현재 잔액: 10115원\n",
            "현재 계좌 개수: 1\n"
          ]
        }
      ]
    },
    {
      "cell_type": "markdown",
      "source": [
        "아직 이번 챕터에 대한 이해가 부족하여 챗지피티의 의존도가 굉장히 높았습니다.\n",
        "\n",
        "따라서 각 코드마다 주석을 달아 코드에 대한 설명을 간단히 작성하였고, 입문자나 초급자도 이해할 수 있을 정도의 문법으로 코드를 작성하였습니다."
      ],
      "metadata": {
        "id": "C0BIMyRIqVop"
      }
    }
  ]
}